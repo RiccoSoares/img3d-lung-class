{
 "cells": [
  {
   "cell_type": "code",
   "execution_count": 1,
   "metadata": {},
   "outputs": [
    {
     "ename": "ModuleNotFoundError",
     "evalue": "No module named 'dicom2nifti'",
     "output_type": "error",
     "traceback": [
      "\u001b[0;31m---------------------------------------------------------------------------\u001b[0m",
      "\u001b[0;31mModuleNotFoundError\u001b[0m                       Traceback (most recent call last)",
      "\u001b[0;32m<ipython-input-1-4976d8c0a6f6>\u001b[0m in \u001b[0;36m<module>\u001b[0;34m\u001b[0m\n\u001b[0;32m----> 1\u001b[0;31m \u001b[0;32mimport\u001b[0m \u001b[0mdicom2nifti\u001b[0m\u001b[0;34m\u001b[0m\u001b[0;34m\u001b[0m\u001b[0m\n\u001b[0m\u001b[1;32m      2\u001b[0m \u001b[0;31m# /path/to/folder/dicoms\u001b[0m\u001b[0;34m\u001b[0m\u001b[0;34m\u001b[0m\u001b[0;34m\u001b[0m\u001b[0m\n\u001b[1;32m      3\u001b[0m \u001b[0;31m# /path/to/folder/dicoms/I0  /path/to/folder/dicoms/I1 ....  /path/to/folder/dicoms/I91 ....\u001b[0m\u001b[0;34m\u001b[0m\u001b[0;34m\u001b[0m\u001b[0;34m\u001b[0m\u001b[0m\n\u001b[1;32m      4\u001b[0m \u001b[0mdicom2nifti\u001b[0m\u001b[0;34m.\u001b[0m\u001b[0mdicom_series_to_nifti\u001b[0m\u001b[0;34m(\u001b[0m\u001b[0;34m'path/to/folder/dicoms'\u001b[0m\u001b[0;34m,\u001b[0m \u001b[0;34m'/path/to/image.nii.gz'\u001b[0m\u001b[0;34m,\u001b[0m \u001b[0mreorient_nifti\u001b[0m\u001b[0;34m=\u001b[0m\u001b[0;32mFalse\u001b[0m\u001b[0;34m)\u001b[0m\u001b[0;34m\u001b[0m\u001b[0;34m\u001b[0m\u001b[0m\n",
      "\u001b[0;31mModuleNotFoundError\u001b[0m: No module named 'dicom2nifti'"
     ]
    }
   ],
   "source": [
    "import dicom2nifti\n",
    "# /path/to/folder/dicoms \n",
    "# /path/to/folder/dicoms/I0  /path/to/folder/dicoms/I1 ....  /path/to/folder/dicoms/I91 ....\n",
    "dicom2nifti.dicom_series_to_nifti('path/to/folder/dicoms', '/path/to/image.nii.gz', reorient_nifti=False)"
   ]
  },
  {
   "cell_type": "code",
   "execution_count": null,
   "metadata": {},
   "outputs": [],
   "source": []
  }
 ],
 "metadata": {
  "kernelspec": {
   "display_name": "Python 3",
   "language": "python",
   "name": "python3"
  },
  "language_info": {
   "codemirror_mode": {
    "name": "ipython",
    "version": 3
   },
   "file_extension": ".py",
   "mimetype": "text/x-python",
   "name": "python",
   "nbconvert_exporter": "python",
   "pygments_lexer": "ipython3",
   "version": "3.7.3"
  }
 },
 "nbformat": 4,
 "nbformat_minor": 4
}
