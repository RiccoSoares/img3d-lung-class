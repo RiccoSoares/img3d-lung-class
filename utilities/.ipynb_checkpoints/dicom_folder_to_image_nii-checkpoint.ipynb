{
 "cells": [
  {
   "cell_type": "markdown",
   "metadata": {},
   "source": [
    "## Convert dicom to Nifti image\n",
    "Convert a folder containing images in format dicom and generates Nifti image."
   ]
  },
  {
   "cell_type": "code",
   "execution_count": 2,
   "metadata": {},
   "outputs": [],
   "source": [
    "'''\n",
    "INPUT_FOLDER_PATH: Path to folder dicoms\n",
    "OUTPUT_IMAGE_PATH: Path  to nifti image \n",
    "''' \n",
    "\n",
    "INPUT_FOLDER_PATH='path/to/folder/dicoms'\n",
    "OUTPUT_IMAGE_PATH='/path/to/image.nii.gz'"
   ]
  },
  {
   "cell_type": "code",
   "execution_count": null,
   "metadata": {},
   "outputs": [],
   "source": [
    "import dicom2nifti\n",
    "\n",
    "dicom2nifti.dicom_series_to_nifti(INPUT_FOLDER_PATH, OUTPUT_IMAGE_PATH, reorient_nifti=False)"
   ]
  },
  {
   "cell_type": "code",
   "execution_count": null,
   "metadata": {},
   "outputs": [],
   "source": []
  }
 ],
 "metadata": {
  "kernelspec": {
   "display_name": "Python 3",
   "language": "python",
   "name": "python3"
  },
  "language_info": {
   "codemirror_mode": {
    "name": "ipython",
    "version": 3
   },
   "file_extension": ".py",
   "mimetype": "text/x-python",
   "name": "python",
   "nbconvert_exporter": "python",
   "pygments_lexer": "ipython3",
   "version": "3.7.3"
  }
 },
 "nbformat": 4,
 "nbformat_minor": 4
}
