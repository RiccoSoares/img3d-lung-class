{
 "cells": [
  {
   "cell_type": "markdown",
   "metadata": {},
   "source": [
    "## Create folds\n",
    "Notebook to create K folds for data train and validation and save it in dataframe format\n",
    "\n",
    "It will get the quantity of classes automatically"
   ]
  },
  {
   "cell_type": "code",
   "execution_count": 16,
   "metadata": {},
   "outputs": [],
   "source": [
    "'''\n",
    "CSV_INPUT_ALL_CLASSES: Path to csv file containing all the dataset\n",
    "OUTPUT_TRAIN_FOLDER: Folder to save split TRAIN folds\n",
    "OUTPUT_TEST_FOLDER: Folder to save split TEST folds\n",
    "K_FOLDS: Folds number to be generated\n",
    "'''\n",
    "DATA_FOLDER='20200903/'\n",
    "CSV_INPUT_ALL_CLASSES='../csv/input/3_classes_hmv.csv'\n",
    "OUTPUT_TRAIN_FOLDER='../csv/input/'+ DATA_FOLDER +'train/'\n",
    "OUTPUT_TEST_FOLDER='../csv/input/'+ DATA_FOLDER +'test/'\n",
    "K_FOLDS=5"
   ]
  },
  {
   "cell_type": "code",
   "execution_count": 17,
   "metadata": {},
   "outputs": [],
   "source": [
    "import numpy as np # linear algebra\n",
    "import pandas as pd # data processing, CSV file I/O (e.g. pd.read_csv)\n",
    "from sklearn.model_selection import StratifiedKFold\n",
    "\n",
    "import glob\n",
    "import os\n",
    "from datetime import datetime"
   ]
  },
  {
   "cell_type": "code",
   "execution_count": 18,
   "metadata": {},
   "outputs": [],
   "source": [
    "'''\n",
    "Make all paths exist\n",
    "'''\n",
    "if not os.path.exists('../csv/'): \n",
    "    os.mkdir('../csv/')\n",
    "if not os.path.exists('../csv/input/'): \n",
    "    os.mkdir('../csv/input/')\n",
    "if not os.path.exists('../csv/input/'+DATA_FOLDER): \n",
    "    os.mkdir('../csv/input/'+DATA_FOLDER)\n",
    "if not os.path.exists(OUTPUT_TRAIN_FOLDER): \n",
    "    os.mkdir(OUTPUT_TRAIN_FOLDER)\n",
    "if not os.path.exists(OUTPUT_TEST_FOLDER): \n",
    "    os.mkdir(OUTPUT_TEST_FOLDER)"
   ]
  },
  {
   "cell_type": "code",
   "execution_count": 19,
   "metadata": {},
   "outputs": [],
   "source": [
    "df = pd.read_csv(CSV_INPUT_ALL_CLASSES)"
   ]
  },
  {
   "cell_type": "code",
   "execution_count": 20,
   "metadata": {},
   "outputs": [
    {
     "data": {
      "text/plain": [
       "array(['INDETERMINATE', 'NEGATIVE', 'POSITIVE'], dtype=object)"
      ]
     },
     "execution_count": 20,
     "metadata": {},
     "output_type": "execute_result"
    }
   ],
   "source": [
    "# Get all classes in the dataframe\n",
    "ar_classes = df.covid.unique()\n",
    "ar_classes.sort()\n",
    "ar_classes"
   ]
  },
  {
   "cell_type": "code",
   "execution_count": 21,
   "metadata": {},
   "outputs": [
    {
     "data": {
      "text/html": [
       "<div>\n",
       "<style scoped>\n",
       "    .dataframe tbody tr th:only-of-type {\n",
       "        vertical-align: middle;\n",
       "    }\n",
       "\n",
       "    .dataframe tbody tr th {\n",
       "        vertical-align: top;\n",
       "    }\n",
       "\n",
       "    .dataframe thead th {\n",
       "        text-align: right;\n",
       "    }\n",
       "</style>\n",
       "<table border=\"1\" class=\"dataframe\">\n",
       "  <thead>\n",
       "    <tr style=\"text-align: right;\">\n",
       "      <th></th>\n",
       "      <th>nome</th>\n",
       "      <th>covid</th>\n",
       "      <th>int_covid</th>\n",
       "    </tr>\n",
       "  </thead>\n",
       "  <tbody>\n",
       "    <tr>\n",
       "      <th>0</th>\n",
       "      <td>C3</td>\n",
       "      <td>NEGATIVE</td>\n",
       "      <td>1</td>\n",
       "    </tr>\n",
       "    <tr>\n",
       "      <th>1</th>\n",
       "      <td>C5</td>\n",
       "      <td>NEGATIVE</td>\n",
       "      <td>1</td>\n",
       "    </tr>\n",
       "    <tr>\n",
       "      <th>2</th>\n",
       "      <td>C100</td>\n",
       "      <td>NEGATIVE</td>\n",
       "      <td>1</td>\n",
       "    </tr>\n",
       "    <tr>\n",
       "      <th>3</th>\n",
       "      <td>C102</td>\n",
       "      <td>NEGATIVE</td>\n",
       "      <td>1</td>\n",
       "    </tr>\n",
       "    <tr>\n",
       "      <th>4</th>\n",
       "      <td>C104</td>\n",
       "      <td>NEGATIVE</td>\n",
       "      <td>1</td>\n",
       "    </tr>\n",
       "    <tr>\n",
       "      <th>...</th>\n",
       "      <td>...</td>\n",
       "      <td>...</td>\n",
       "      <td>...</td>\n",
       "    </tr>\n",
       "    <tr>\n",
       "      <th>127</th>\n",
       "      <td>C40</td>\n",
       "      <td>INDETERMINATE</td>\n",
       "      <td>0</td>\n",
       "    </tr>\n",
       "    <tr>\n",
       "      <th>128</th>\n",
       "      <td>C48</td>\n",
       "      <td>INDETERMINATE</td>\n",
       "      <td>0</td>\n",
       "    </tr>\n",
       "    <tr>\n",
       "      <th>129</th>\n",
       "      <td>C57</td>\n",
       "      <td>INDETERMINATE</td>\n",
       "      <td>0</td>\n",
       "    </tr>\n",
       "    <tr>\n",
       "      <th>130</th>\n",
       "      <td>C65</td>\n",
       "      <td>INDETERMINATE</td>\n",
       "      <td>0</td>\n",
       "    </tr>\n",
       "    <tr>\n",
       "      <th>131</th>\n",
       "      <td>C97</td>\n",
       "      <td>INDETERMINATE</td>\n",
       "      <td>0</td>\n",
       "    </tr>\n",
       "  </tbody>\n",
       "</table>\n",
       "<p>132 rows × 3 columns</p>\n",
       "</div>"
      ],
      "text/plain": [
       "     nome          covid  int_covid\n",
       "0      C3       NEGATIVE          1\n",
       "1      C5       NEGATIVE          1\n",
       "2    C100       NEGATIVE          1\n",
       "3    C102       NEGATIVE          1\n",
       "4    C104       NEGATIVE          1\n",
       "..    ...            ...        ...\n",
       "127   C40  INDETERMINATE          0\n",
       "128   C48  INDETERMINATE          0\n",
       "129   C57  INDETERMINATE          0\n",
       "130   C65  INDETERMINATE          0\n",
       "131   C97  INDETERMINATE          0\n",
       "\n",
       "[132 rows x 3 columns]"
      ]
     },
     "execution_count": 21,
     "metadata": {},
     "output_type": "execute_result"
    }
   ],
   "source": [
    "df['int_covid'] = 0\n",
    "for i in range(len(ar_classes)):\n",
    "    df.loc[ df.covid==ar_classes[i], 'int_covid'] = i\n",
    "df"
   ]
  },
  {
   "cell_type": "markdown",
   "metadata": {},
   "source": [
    "Generate the split to train and test samples."
   ]
  },
  {
   "cell_type": "code",
   "execution_count": 22,
   "metadata": {},
   "outputs": [],
   "source": [
    "X = df.index.to_list()\n",
    "y = df['int_covid'].to_list()\n",
    "skf = StratifiedKFold(n_splits=K_FOLDS, shuffle=True)\n",
    "skf.get_n_splits(X, y)\n",
    "# print(skf)\n",
    "j = 1\n",
    "for train_index, test_index in skf.split(X, y):\n",
    "    df_train = pd.DataFrame(columns=['nome', 'covid'])\n",
    "    for i in train_index:\n",
    "        df_train = df_train.append(df.iloc[i])\n",
    "    df_train = df_train.drop(columns=['int_covid'])\n",
    "    df_train.to_csv( OUTPUT_TRAIN_FOLDER + 'train'+str(j)+'.csv', index=False)\n",
    "    \n",
    "    df_test = pd.DataFrame(columns=['nome', 'covid'])\n",
    "    for i in test_index:\n",
    "        df_test = df_test.append(df.iloc[i])\n",
    "    df_test = df_test.drop(columns=['int_covid'])\n",
    "    df_test.to_csv(OUTPUT_TEST_FOLDER+'test'+str(j)+'.csv', index=False)\n",
    "    j+=1\n"
   ]
  },
  {
   "cell_type": "code",
   "execution_count": null,
   "metadata": {},
   "outputs": [],
   "source": []
  }
 ],
 "metadata": {
  "kernelspec": {
   "display_name": "Python 3",
   "language": "python",
   "name": "python3"
  },
  "language_info": {
   "codemirror_mode": {
    "name": "ipython",
    "version": 3
   },
   "file_extension": ".py",
   "mimetype": "text/x-python",
   "name": "python",
   "nbconvert_exporter": "python",
   "pygments_lexer": "ipython3",
   "version": "3.7.3"
  }
 },
 "nbformat": 4,
 "nbformat_minor": 4
}
